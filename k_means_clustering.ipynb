{
  "nbformat": 4,
  "nbformat_minor": 0,
  "metadata": {
    "colab": {
      "name": "k_means clustering.ipynb",
      "provenance": [],
      "collapsed_sections": [],
      "toc_visible": true
    },
    "kernelspec": {
      "name": "python3",
      "display_name": "Python 3"
    }
  },
  "cells": [
    {
      "cell_type": "markdown",
      "metadata": {
        "id": "6WRuNkBrB2Jj"
      },
      "source": [
        "\r\n",
        "#  **K-means Clustering Algorithm (Behind The Scenes)...**\r\n",
        "**Building The Algorithm Step by Step (using a real world dataset)**\r\n",
        "**vs KMeans Class of Sklearn.cluster**\r\n",
        "\r\n",
        "Summary\r\n",
        "\r\n",
        "> I.   Cleaning & Preprocessing\r\n",
        "\r\n",
        "\r\n",
        "> II.  The K-Means Algorithm (Behind the Scenes)\r\n",
        "\r\n",
        "\r\n",
        "\r\n",
        "> III. Using the Class KMeans & Checking of our built algorithm\r\n",
        "\r\n",
        "\r\n",
        "\r\n",
        "\r\n",
        "\r\n",
        "\r\n",
        "\r\n",
        "\r\n",
        "\r\n",
        "\r\n"
      ]
    },
    {
      "cell_type": "markdown",
      "metadata": {
        "id": "9NVmmSySM5H2"
      },
      "source": [
        "\r\n",
        "## **I: Cleaning & Preprocessing :**\r\n",
        "\r\n",
        "To download the Dataset That willl be used (For building the K-means Algorithm, step by step):  https://www.kaggle.com/lancharro5/seasons-stats-50-19\r\n",
        "\r\n",
        "\r\n",
        "\r\n",
        "\r\n"
      ]
    },
    {
      "cell_type": "markdown",
      "metadata": {
        "id": "M8E_qlnZIlsI"
      },
      "source": [
        "The definition of columns: see this Glossary:\r\n",
        "https://www.basketball-reference.com/about/glossary.html\r\n"
      ]
    },
    {
      "cell_type": "code",
      "metadata": {
        "id": "ZhHnPisixu0p"
      },
      "source": [
        "import pandas as pd\r\n",
        "df= pd.read_csv('Seasons_stats_complete.csv')"
      ],
      "execution_count": 321,
      "outputs": []
    },
    {
      "cell_type": "code",
      "metadata": {
        "colab": {
          "base_uri": "https://localhost:8080/",
          "height": 233
        },
        "id": "mZ_nVvTRx5V6",
        "outputId": "d7e5772f-f197-4725-e33e-e100c8865a78"
      },
      "source": [
        "df.head(3)"
      ],
      "execution_count": 322,
      "outputs": [
        {
          "output_type": "execute_result",
          "data": {
            "text/html": [
              "<div>\n",
              "<style scoped>\n",
              "    .dataframe tbody tr th:only-of-type {\n",
              "        vertical-align: middle;\n",
              "    }\n",
              "\n",
              "    .dataframe tbody tr th {\n",
              "        vertical-align: top;\n",
              "    }\n",
              "\n",
              "    .dataframe thead th {\n",
              "        text-align: right;\n",
              "    }\n",
              "</style>\n",
              "<table border=\"1\" class=\"dataframe\">\n",
              "  <thead>\n",
              "    <tr style=\"text-align: right;\">\n",
              "      <th></th>\n",
              "      <th>Unnamed: 0</th>\n",
              "      <th>Year</th>\n",
              "      <th>Player</th>\n",
              "      <th>Pos</th>\n",
              "      <th>Age</th>\n",
              "      <th>Tm</th>\n",
              "      <th>G</th>\n",
              "      <th>MP</th>\n",
              "      <th>PER</th>\n",
              "      <th>TS%</th>\n",
              "      <th>3PAr</th>\n",
              "      <th>FTr</th>\n",
              "      <th>ORB%</th>\n",
              "      <th>DRB%</th>\n",
              "      <th>TRB%</th>\n",
              "      <th>AST%</th>\n",
              "      <th>STL%</th>\n",
              "      <th>BLK%</th>\n",
              "      <th>TOV%</th>\n",
              "      <th>USG%</th>\n",
              "      <th>OWS</th>\n",
              "      <th>DWS</th>\n",
              "      <th>WS</th>\n",
              "      <th>WS/48</th>\n",
              "      <th>OBPM</th>\n",
              "      <th>DBPM</th>\n",
              "      <th>BPM</th>\n",
              "      <th>VORP</th>\n",
              "      <th>FG</th>\n",
              "      <th>FGA</th>\n",
              "      <th>FG%</th>\n",
              "      <th>3P</th>\n",
              "      <th>3PA</th>\n",
              "      <th>3P%</th>\n",
              "      <th>2P</th>\n",
              "      <th>2PA</th>\n",
              "      <th>2P%</th>\n",
              "      <th>eFG%</th>\n",
              "      <th>FT</th>\n",
              "      <th>FTA</th>\n",
              "      <th>FT%</th>\n",
              "      <th>ORB</th>\n",
              "      <th>DRB</th>\n",
              "      <th>TRB</th>\n",
              "      <th>AST</th>\n",
              "      <th>STL</th>\n",
              "      <th>BLK</th>\n",
              "      <th>TOV</th>\n",
              "      <th>PF</th>\n",
              "      <th>PTS</th>\n",
              "    </tr>\n",
              "  </thead>\n",
              "  <tbody>\n",
              "    <tr>\n",
              "      <th>0</th>\n",
              "      <td>0</td>\n",
              "      <td>1950.0</td>\n",
              "      <td>Curly Armstrong</td>\n",
              "      <td>G-F</td>\n",
              "      <td>31.0</td>\n",
              "      <td>FTW</td>\n",
              "      <td>63.0</td>\n",
              "      <td>0.0</td>\n",
              "      <td>0.0</td>\n",
              "      <td>0.368</td>\n",
              "      <td>0.0</td>\n",
              "      <td>0.467</td>\n",
              "      <td>0.0</td>\n",
              "      <td>0.0</td>\n",
              "      <td>0.0</td>\n",
              "      <td>0.0</td>\n",
              "      <td>0.0</td>\n",
              "      <td>0.0</td>\n",
              "      <td>0.0</td>\n",
              "      <td>0.0</td>\n",
              "      <td>-0.1</td>\n",
              "      <td>3.6</td>\n",
              "      <td>3.5</td>\n",
              "      <td>0.0</td>\n",
              "      <td>0.0</td>\n",
              "      <td>0.0</td>\n",
              "      <td>0.0</td>\n",
              "      <td>0.0</td>\n",
              "      <td>144.0</td>\n",
              "      <td>516.0</td>\n",
              "      <td>0.279</td>\n",
              "      <td>0.0</td>\n",
              "      <td>0.0</td>\n",
              "      <td>0.0</td>\n",
              "      <td>144.0</td>\n",
              "      <td>516.0</td>\n",
              "      <td>0.279</td>\n",
              "      <td>0.279</td>\n",
              "      <td>170.0</td>\n",
              "      <td>241.0</td>\n",
              "      <td>0.705</td>\n",
              "      <td>0.0</td>\n",
              "      <td>0.0</td>\n",
              "      <td>0.0</td>\n",
              "      <td>176.0</td>\n",
              "      <td>0.0</td>\n",
              "      <td>0.0</td>\n",
              "      <td>0.0</td>\n",
              "      <td>217.0</td>\n",
              "      <td>458.0</td>\n",
              "    </tr>\n",
              "    <tr>\n",
              "      <th>1</th>\n",
              "      <td>1</td>\n",
              "      <td>1950.0</td>\n",
              "      <td>Cliff Barker</td>\n",
              "      <td>SG</td>\n",
              "      <td>29.0</td>\n",
              "      <td>INO</td>\n",
              "      <td>49.0</td>\n",
              "      <td>0.0</td>\n",
              "      <td>0.0</td>\n",
              "      <td>0.435</td>\n",
              "      <td>0.0</td>\n",
              "      <td>0.387</td>\n",
              "      <td>0.0</td>\n",
              "      <td>0.0</td>\n",
              "      <td>0.0</td>\n",
              "      <td>0.0</td>\n",
              "      <td>0.0</td>\n",
              "      <td>0.0</td>\n",
              "      <td>0.0</td>\n",
              "      <td>0.0</td>\n",
              "      <td>1.6</td>\n",
              "      <td>0.6</td>\n",
              "      <td>2.2</td>\n",
              "      <td>0.0</td>\n",
              "      <td>0.0</td>\n",
              "      <td>0.0</td>\n",
              "      <td>0.0</td>\n",
              "      <td>0.0</td>\n",
              "      <td>102.0</td>\n",
              "      <td>274.0</td>\n",
              "      <td>0.372</td>\n",
              "      <td>0.0</td>\n",
              "      <td>0.0</td>\n",
              "      <td>0.0</td>\n",
              "      <td>102.0</td>\n",
              "      <td>274.0</td>\n",
              "      <td>0.372</td>\n",
              "      <td>0.372</td>\n",
              "      <td>75.0</td>\n",
              "      <td>106.0</td>\n",
              "      <td>0.708</td>\n",
              "      <td>0.0</td>\n",
              "      <td>0.0</td>\n",
              "      <td>0.0</td>\n",
              "      <td>109.0</td>\n",
              "      <td>0.0</td>\n",
              "      <td>0.0</td>\n",
              "      <td>0.0</td>\n",
              "      <td>99.0</td>\n",
              "      <td>279.0</td>\n",
              "    </tr>\n",
              "    <tr>\n",
              "      <th>2</th>\n",
              "      <td>2</td>\n",
              "      <td>1950.0</td>\n",
              "      <td>Leo Barnhorst</td>\n",
              "      <td>SF</td>\n",
              "      <td>25.0</td>\n",
              "      <td>CHS</td>\n",
              "      <td>67.0</td>\n",
              "      <td>0.0</td>\n",
              "      <td>0.0</td>\n",
              "      <td>0.394</td>\n",
              "      <td>0.0</td>\n",
              "      <td>0.259</td>\n",
              "      <td>0.0</td>\n",
              "      <td>0.0</td>\n",
              "      <td>0.0</td>\n",
              "      <td>0.0</td>\n",
              "      <td>0.0</td>\n",
              "      <td>0.0</td>\n",
              "      <td>0.0</td>\n",
              "      <td>0.0</td>\n",
              "      <td>0.9</td>\n",
              "      <td>2.8</td>\n",
              "      <td>3.6</td>\n",
              "      <td>0.0</td>\n",
              "      <td>0.0</td>\n",
              "      <td>0.0</td>\n",
              "      <td>0.0</td>\n",
              "      <td>0.0</td>\n",
              "      <td>174.0</td>\n",
              "      <td>499.0</td>\n",
              "      <td>0.349</td>\n",
              "      <td>0.0</td>\n",
              "      <td>0.0</td>\n",
              "      <td>0.0</td>\n",
              "      <td>174.0</td>\n",
              "      <td>499.0</td>\n",
              "      <td>0.349</td>\n",
              "      <td>0.349</td>\n",
              "      <td>90.0</td>\n",
              "      <td>129.0</td>\n",
              "      <td>0.698</td>\n",
              "      <td>0.0</td>\n",
              "      <td>0.0</td>\n",
              "      <td>0.0</td>\n",
              "      <td>140.0</td>\n",
              "      <td>0.0</td>\n",
              "      <td>0.0</td>\n",
              "      <td>0.0</td>\n",
              "      <td>192.0</td>\n",
              "      <td>438.0</td>\n",
              "    </tr>\n",
              "  </tbody>\n",
              "</table>\n",
              "</div>"
            ],
            "text/plain": [
              "   Unnamed: 0    Year           Player  Pos   Age  ...  STL  BLK  TOV     PF    PTS\n",
              "0           0  1950.0  Curly Armstrong  G-F  31.0  ...  0.0  0.0  0.0  217.0  458.0\n",
              "1           1  1950.0     Cliff Barker   SG  29.0  ...  0.0  0.0  0.0   99.0  279.0\n",
              "2           2  1950.0    Leo Barnhorst   SF  25.0  ...  0.0  0.0  0.0  192.0  438.0\n",
              "\n",
              "[3 rows x 50 columns]"
            ]
          },
          "metadata": {
            "tags": []
          },
          "execution_count": 322
        }
      ]
    },
    {
      "cell_type": "code",
      "metadata": {
        "id": "5RJLpG2N-6TX"
      },
      "source": [
        "#Extract the DataFrame only for NBA point guards\r\n",
        "point_guards= df[df['Pos']=='PG']"
      ],
      "execution_count": 323,
      "outputs": []
    },
    {
      "cell_type": "code",
      "metadata": {
        "id": "kGvh1wjCyQxC"
      },
      "source": [
        "#compute the points per game (PPG) for each player\r\n",
        "pd.options.mode.chained_assignment= None\r\n",
        "point_guards['PPG']= point_guards['PTS']/point_guards['G']\r\n"
      ],
      "execution_count": 324,
      "outputs": []
    },
    {
      "cell_type": "code",
      "metadata": {
        "id": "pAoQCbY_AZT2"
      },
      "source": [
        "#Compute Assistant to Turnover Ratio(A higher AST/TO means more ball control.lower AST/TO means less ball control)\r\n",
        "point_guards['AST/TO'] = point_guards['AST']/point_guards['TOV']"
      ],
      "execution_count": 325,
      "outputs": []
    },
    {
      "cell_type": "code",
      "metadata": {
        "id": "Okw9P6BNEH-t"
      },
      "source": [
        "#We choose one year (here I choose 2012, we can repeat the same processing for each year form 950 to 2019)\r\n",
        "point_guards =point_guards[point_guards['Year']==2013]"
      ],
      "execution_count": 326,
      "outputs": []
    },
    {
      "cell_type": "code",
      "metadata": {
        "colab": {
          "base_uri": "https://localhost:8080/",
          "height": 184
        },
        "id": "lcGENzzG-kwF",
        "outputId": "58afeaa3-c869-4649-ec23-75c6f8658281"
      },
      "source": [
        "#The most performant PG?\r\n",
        "a= point_guards[point_guards['AST/TO']>=8]\r\n",
        "a"
      ],
      "execution_count": 327,
      "outputs": [
        {
          "output_type": "execute_result",
          "data": {
            "text/html": [
              "<div>\n",
              "<style scoped>\n",
              "    .dataframe tbody tr th:only-of-type {\n",
              "        vertical-align: middle;\n",
              "    }\n",
              "\n",
              "    .dataframe tbody tr th {\n",
              "        vertical-align: top;\n",
              "    }\n",
              "\n",
              "    .dataframe thead th {\n",
              "        text-align: right;\n",
              "    }\n",
              "</style>\n",
              "<table border=\"1\" class=\"dataframe\">\n",
              "  <thead>\n",
              "    <tr style=\"text-align: right;\">\n",
              "      <th></th>\n",
              "      <th>Unnamed: 0</th>\n",
              "      <th>Year</th>\n",
              "      <th>Player</th>\n",
              "      <th>Pos</th>\n",
              "      <th>Age</th>\n",
              "      <th>Tm</th>\n",
              "      <th>G</th>\n",
              "      <th>MP</th>\n",
              "      <th>PER</th>\n",
              "      <th>TS%</th>\n",
              "      <th>3PAr</th>\n",
              "      <th>FTr</th>\n",
              "      <th>ORB%</th>\n",
              "      <th>DRB%</th>\n",
              "      <th>TRB%</th>\n",
              "      <th>AST%</th>\n",
              "      <th>STL%</th>\n",
              "      <th>BLK%</th>\n",
              "      <th>TOV%</th>\n",
              "      <th>USG%</th>\n",
              "      <th>OWS</th>\n",
              "      <th>DWS</th>\n",
              "      <th>WS</th>\n",
              "      <th>WS/48</th>\n",
              "      <th>OBPM</th>\n",
              "      <th>DBPM</th>\n",
              "      <th>BPM</th>\n",
              "      <th>VORP</th>\n",
              "      <th>FG</th>\n",
              "      <th>FGA</th>\n",
              "      <th>FG%</th>\n",
              "      <th>3P</th>\n",
              "      <th>3PA</th>\n",
              "      <th>3P%</th>\n",
              "      <th>2P</th>\n",
              "      <th>2PA</th>\n",
              "      <th>2P%</th>\n",
              "      <th>eFG%</th>\n",
              "      <th>FT</th>\n",
              "      <th>FTA</th>\n",
              "      <th>FT%</th>\n",
              "      <th>ORB</th>\n",
              "      <th>DRB</th>\n",
              "      <th>TRB</th>\n",
              "      <th>AST</th>\n",
              "      <th>STL</th>\n",
              "      <th>BLK</th>\n",
              "      <th>TOV</th>\n",
              "      <th>PF</th>\n",
              "      <th>PTS</th>\n",
              "      <th>PPG</th>\n",
              "      <th>AST/TO</th>\n",
              "    </tr>\n",
              "  </thead>\n",
              "  <tbody>\n",
              "    <tr>\n",
              "      <th>21682</th>\n",
              "      <td>21682</td>\n",
              "      <td>2013.0</td>\n",
              "      <td>Josh Akognon</td>\n",
              "      <td>PG</td>\n",
              "      <td>26.0</td>\n",
              "      <td>DAL</td>\n",
              "      <td>3.0</td>\n",
              "      <td>9.0</td>\n",
              "      <td>15.3</td>\n",
              "      <td>0.625</td>\n",
              "      <td>0.5</td>\n",
              "      <td>0.000</td>\n",
              "      <td>0.0</td>\n",
              "      <td>12.1</td>\n",
              "      <td>6.2</td>\n",
              "      <td>19.4</td>\n",
              "      <td>0.0</td>\n",
              "      <td>0.0</td>\n",
              "      <td>0.0</td>\n",
              "      <td>20.3</td>\n",
              "      <td>0.0</td>\n",
              "      <td>0.0</td>\n",
              "      <td>0.0</td>\n",
              "      <td>0.196</td>\n",
              "      <td>4.7</td>\n",
              "      <td>-4.9</td>\n",
              "      <td>-0.2</td>\n",
              "      <td>0.0</td>\n",
              "      <td>2.0</td>\n",
              "      <td>4.0</td>\n",
              "      <td>0.500</td>\n",
              "      <td>1.0</td>\n",
              "      <td>2.0</td>\n",
              "      <td>0.5</td>\n",
              "      <td>1.0</td>\n",
              "      <td>2.0</td>\n",
              "      <td>0.500</td>\n",
              "      <td>0.625</td>\n",
              "      <td>0.0</td>\n",
              "      <td>0.0</td>\n",
              "      <td>0.0</td>\n",
              "      <td>0.0</td>\n",
              "      <td>1.0</td>\n",
              "      <td>1.0</td>\n",
              "      <td>1.0</td>\n",
              "      <td>0.0</td>\n",
              "      <td>0.0</td>\n",
              "      <td>0.0</td>\n",
              "      <td>3.0</td>\n",
              "      <td>5.0</td>\n",
              "      <td>1.666667</td>\n",
              "      <td>inf</td>\n",
              "    </tr>\n",
              "    <tr>\n",
              "      <th>21941</th>\n",
              "      <td>21941</td>\n",
              "      <td>2013.0</td>\n",
              "      <td>Charles Jenkins</td>\n",
              "      <td>PG</td>\n",
              "      <td>23.0</td>\n",
              "      <td>PHI</td>\n",
              "      <td>12.0</td>\n",
              "      <td>150.0</td>\n",
              "      <td>8.6</td>\n",
              "      <td>0.377</td>\n",
              "      <td>0.0</td>\n",
              "      <td>0.105</td>\n",
              "      <td>2.2</td>\n",
              "      <td>6.2</td>\n",
              "      <td>4.1</td>\n",
              "      <td>15.7</td>\n",
              "      <td>2.1</td>\n",
              "      <td>0.5</td>\n",
              "      <td>4.8</td>\n",
              "      <td>12.8</td>\n",
              "      <td>0.0</td>\n",
              "      <td>0.1</td>\n",
              "      <td>0.1</td>\n",
              "      <td>0.021</td>\n",
              "      <td>-5.0</td>\n",
              "      <td>-1.0</td>\n",
              "      <td>-5.9</td>\n",
              "      <td>-0.1</td>\n",
              "      <td>14.0</td>\n",
              "      <td>38.0</td>\n",
              "      <td>0.368</td>\n",
              "      <td>0.0</td>\n",
              "      <td>0.0</td>\n",
              "      <td>0.0</td>\n",
              "      <td>14.0</td>\n",
              "      <td>38.0</td>\n",
              "      <td>0.368</td>\n",
              "      <td>0.368</td>\n",
              "      <td>2.0</td>\n",
              "      <td>4.0</td>\n",
              "      <td>0.5</td>\n",
              "      <td>3.0</td>\n",
              "      <td>8.0</td>\n",
              "      <td>11.0</td>\n",
              "      <td>16.0</td>\n",
              "      <td>6.0</td>\n",
              "      <td>1.0</td>\n",
              "      <td>2.0</td>\n",
              "      <td>4.0</td>\n",
              "      <td>30.0</td>\n",
              "      <td>2.500000</td>\n",
              "      <td>8.0</td>\n",
              "    </tr>\n",
              "  </tbody>\n",
              "</table>\n",
              "</div>"
            ],
            "text/plain": [
              "       Unnamed: 0    Year           Player Pos  ...   PF   PTS       PPG  AST/TO\n",
              "21682       21682  2013.0     Josh Akognon  PG  ...  3.0   5.0  1.666667     inf\n",
              "21941       21941  2013.0  Charles Jenkins  PG  ...  4.0  30.0  2.500000     8.0\n",
              "\n",
              "[2 rows x 52 columns]"
            ]
          },
          "metadata": {
            "tags": []
          },
          "execution_count": 327
        }
      ]
    },
    {
      "cell_type": "code",
      "metadata": {
        "id": "zTVGKeE1GAQq"
      },
      "source": [
        "#Because we have only few highly performant PG (it doesn't a cluster, we can consider them as outliers)\r\n",
        "#we will drop them from the dataframe (only for reasons for better classification)\r\n",
        "point_guards.drop(list(a.index), inplace=True)"
      ],
      "execution_count": 328,
      "outputs": []
    },
    {
      "cell_type": "code",
      "metadata": {
        "colab": {
          "base_uri": "https://localhost:8080/"
        },
        "id": "yhfQY_Ws_M4n",
        "outputId": "4f9d9958-eede-4860-8816-1e02eeee3449"
      },
      "source": [
        "point_guards[['PPG','AST/TO']].info()"
      ],
      "execution_count": 329,
      "outputs": [
        {
          "output_type": "stream",
          "text": [
            "<class 'pandas.core.frame.DataFrame'>\n",
            "Int64Index: 106 entries, 21706 to 22239\n",
            "Data columns (total 2 columns):\n",
            " #   Column  Non-Null Count  Dtype  \n",
            "---  ------  --------------  -----  \n",
            " 0   PPG     106 non-null    float64\n",
            " 1   AST/TO  104 non-null    float64\n",
            "dtypes: float64(2)\n",
            "memory usage: 2.5 KB\n"
          ],
          "name": "stdout"
        }
      ]
    },
    {
      "cell_type": "code",
      "metadata": {
        "id": "m5MqsOHv_V0L"
      },
      "source": [
        "#Drop the NaN values\r\n",
        "point_guards.dropna(subset=[\"AST/TO\"], how=\"all\",  inplace=True)"
      ],
      "execution_count": 331,
      "outputs": []
    },
    {
      "cell_type": "code",
      "metadata": {
        "colab": {
          "base_uri": "https://localhost:8080/"
        },
        "id": "EYiJ6M2H_lfC",
        "outputId": "f3320d70-acc9-4d2c-8b64-3aeb0b9b241f"
      },
      "source": [
        "point_guards[['PPG','AST/TO']].info()"
      ],
      "execution_count": 333,
      "outputs": [
        {
          "output_type": "stream",
          "text": [
            "<class 'pandas.core.frame.DataFrame'>\n",
            "Int64Index: 104 entries, 21706 to 22239\n",
            "Data columns (total 2 columns):\n",
            " #   Column  Non-Null Count  Dtype  \n",
            "---  ------  --------------  -----  \n",
            " 0   PPG     104 non-null    float64\n",
            " 1   AST/TO  104 non-null    float64\n",
            "dtypes: float64(2)\n",
            "memory usage: 2.4 KB\n"
          ],
          "name": "stdout"
        }
      ]
    },
    {
      "cell_type": "code",
      "metadata": {
        "colab": {
          "base_uri": "https://localhost:8080/",
          "height": 409
        },
        "id": "e44JC8yOx6sB",
        "outputId": "118919e3-0200-4487-f013-7060f8944f83"
      },
      "source": [
        "#Visualization\r\n",
        "import matplotlib.pyplot as plt\r\n",
        "plt.scatter(point_guards['PPG'], point_guards['AST/TO'])\r\n",
        "plt.title('~ NBA Point Guards Players ~',fontsize=15)\r\n",
        "plt.xlabel('Points per match',fontsize=13)\r\n",
        "plt.ylabel('Assist To Turnover Ratio', fontsize=13)\r\n",
        "plt.gcf().set_size_inches(10,6)\r\n",
        "plt.show()"
      ],
      "execution_count": 334,
      "outputs": [
        {
          "output_type": "display_data",
          "data": {
            "image/png": "[encoded data removed]",
            "text/plain": [
              "<Figure size 720x432 with 1 Axes>"
            ]
          },
          "metadata": {
            "tags": [],
            "needs_background": "light"
          }
        }
      ]
    },
    {
      "cell_type": "markdown",
      "metadata": {
        "id": "E7alaSK-MhMu"
      },
      "source": [
        "## **II: The K-Means Algorithm (Behind the Scenes)**\r\n"
      ]
    },
    {
      "cell_type": "markdown",
      "metadata": {
        "id": "OV1aQvki4-Np"
      },
      "source": [
        "**Step 1: Intitial Centroids (Initial cluster centers)**\r\n",
        "\r\n",
        "Random selection of data points that will be used as intitial centroids"
      ]
    },
    {
      "cell_type": "code",
      "metadata": {
        "id": "d4zFJVZT5L-M"
      },
      "source": [
        "import numpy as np\r\n",
        "num_clusters= 5\r\n",
        "#use the function random of numpy to generate index list (with the size of num_clusters)\r\n",
        "random_initial_points = np.random.choice(point_guards.index, size= num_clusters)"
      ],
      "execution_count": 335,
      "outputs": []
    },
    {
      "cell_type": "code",
      "metadata": {
        "colab": {
          "base_uri": "https://localhost:8080/",
          "height": 233
        },
        "id": "mATL32pF6VUn",
        "outputId": "6cf2e219-6bd6-417b-a29c-189352386ac8"
      },
      "source": [
        "#use the random indexes to create the centroids\r\n",
        "centroids= point_guards.loc[random_initial_points]\r\n",
        "centroids.head(3)"
      ],
      "execution_count": 336,
      "outputs": [
        {
          "output_type": "execute_result",
          "data": {
            "text/html": [
              "<div>\n",
              "<style scoped>\n",
              "    .dataframe tbody tr th:only-of-type {\n",
              "        vertical-align: middle;\n",
              "    }\n",
              "\n",
              "    .dataframe tbody tr th {\n",
              "        vertical-align: top;\n",
              "    }\n",
              "\n",
              "    .dataframe thead th {\n",
              "        text-align: right;\n",
              "    }\n",
              "</style>\n",
              "<table border=\"1\" class=\"dataframe\">\n",
              "  <thead>\n",
              "    <tr style=\"text-align: right;\">\n",
              "      <th></th>\n",
              "      <th>Unnamed: 0</th>\n",
              "      <th>Year</th>\n",
              "      <th>Player</th>\n",
              "      <th>Pos</th>\n",
              "      <th>Age</th>\n",
              "      <th>Tm</th>\n",
              "      <th>G</th>\n",
              "      <th>MP</th>\n",
              "      <th>PER</th>\n",
              "      <th>TS%</th>\n",
              "      <th>3PAr</th>\n",
              "      <th>FTr</th>\n",
              "      <th>ORB%</th>\n",
              "      <th>DRB%</th>\n",
              "      <th>TRB%</th>\n",
              "      <th>AST%</th>\n",
              "      <th>STL%</th>\n",
              "      <th>BLK%</th>\n",
              "      <th>TOV%</th>\n",
              "      <th>USG%</th>\n",
              "      <th>OWS</th>\n",
              "      <th>DWS</th>\n",
              "      <th>WS</th>\n",
              "      <th>WS/48</th>\n",
              "      <th>OBPM</th>\n",
              "      <th>DBPM</th>\n",
              "      <th>BPM</th>\n",
              "      <th>VORP</th>\n",
              "      <th>FG</th>\n",
              "      <th>FGA</th>\n",
              "      <th>FG%</th>\n",
              "      <th>3P</th>\n",
              "      <th>3PA</th>\n",
              "      <th>3P%</th>\n",
              "      <th>2P</th>\n",
              "      <th>2PA</th>\n",
              "      <th>2P%</th>\n",
              "      <th>eFG%</th>\n",
              "      <th>FT</th>\n",
              "      <th>FTA</th>\n",
              "      <th>FT%</th>\n",
              "      <th>ORB</th>\n",
              "      <th>DRB</th>\n",
              "      <th>TRB</th>\n",
              "      <th>AST</th>\n",
              "      <th>STL</th>\n",
              "      <th>BLK</th>\n",
              "      <th>TOV</th>\n",
              "      <th>PF</th>\n",
              "      <th>PTS</th>\n",
              "      <th>PPG</th>\n",
              "      <th>AST/TO</th>\n",
              "    </tr>\n",
              "  </thead>\n",
              "  <tbody>\n",
              "    <tr>\n",
              "      <th>22227</th>\n",
              "      <td>22227</td>\n",
              "      <td>2013.0</td>\n",
              "      <td>Maalik Wayns</td>\n",
              "      <td>PG</td>\n",
              "      <td>21.0</td>\n",
              "      <td>LAC</td>\n",
              "      <td>6.0</td>\n",
              "      <td>37.0</td>\n",
              "      <td>19.5</td>\n",
              "      <td>0.563</td>\n",
              "      <td>0.375</td>\n",
              "      <td>0.25</td>\n",
              "      <td>0.0</td>\n",
              "      <td>6.3</td>\n",
              "      <td>3.2</td>\n",
              "      <td>30.9</td>\n",
              "      <td>4.3</td>\n",
              "      <td>0.0</td>\n",
              "      <td>10.1</td>\n",
              "      <td>24.4</td>\n",
              "      <td>0.1</td>\n",
              "      <td>0.1</td>\n",
              "      <td>0.2</td>\n",
              "      <td>0.227</td>\n",
              "      <td>3.4</td>\n",
              "      <td>-2.5</td>\n",
              "      <td>0.9</td>\n",
              "      <td>0.0</td>\n",
              "      <td>7.0</td>\n",
              "      <td>16.0</td>\n",
              "      <td>0.438</td>\n",
              "      <td>2.0</td>\n",
              "      <td>6.0</td>\n",
              "      <td>0.333</td>\n",
              "      <td>5.0</td>\n",
              "      <td>10.0</td>\n",
              "      <td>0.500</td>\n",
              "      <td>0.500</td>\n",
              "      <td>4.0</td>\n",
              "      <td>4.0</td>\n",
              "      <td>1.000</td>\n",
              "      <td>0.0</td>\n",
              "      <td>2.0</td>\n",
              "      <td>2.0</td>\n",
              "      <td>7.0</td>\n",
              "      <td>3.0</td>\n",
              "      <td>0.0</td>\n",
              "      <td>2.0</td>\n",
              "      <td>8.0</td>\n",
              "      <td>20.0</td>\n",
              "      <td>3.333333</td>\n",
              "      <td>3.500000</td>\n",
              "    </tr>\n",
              "    <tr>\n",
              "      <th>22101</th>\n",
              "      <td>22101</td>\n",
              "      <td>2013.0</td>\n",
              "      <td>Ronnie Price</td>\n",
              "      <td>PG</td>\n",
              "      <td>29.0</td>\n",
              "      <td>POR</td>\n",
              "      <td>39.0</td>\n",
              "      <td>510.0</td>\n",
              "      <td>6.8</td>\n",
              "      <td>0.402</td>\n",
              "      <td>0.325</td>\n",
              "      <td>0.20</td>\n",
              "      <td>2.9</td>\n",
              "      <td>7.2</td>\n",
              "      <td>5.0</td>\n",
              "      <td>21.0</td>\n",
              "      <td>2.7</td>\n",
              "      <td>0.4</td>\n",
              "      <td>20.7</td>\n",
              "      <td>14.8</td>\n",
              "      <td>-0.5</td>\n",
              "      <td>0.3</td>\n",
              "      <td>-0.2</td>\n",
              "      <td>-0.017</td>\n",
              "      <td>-4.1</td>\n",
              "      <td>-0.7</td>\n",
              "      <td>-4.8</td>\n",
              "      <td>-0.4</td>\n",
              "      <td>39.0</td>\n",
              "      <td>120.0</td>\n",
              "      <td>0.325</td>\n",
              "      <td>10.0</td>\n",
              "      <td>39.0</td>\n",
              "      <td>0.256</td>\n",
              "      <td>29.0</td>\n",
              "      <td>81.0</td>\n",
              "      <td>0.358</td>\n",
              "      <td>0.367</td>\n",
              "      <td>17.0</td>\n",
              "      <td>24.0</td>\n",
              "      <td>0.708</td>\n",
              "      <td>13.0</td>\n",
              "      <td>31.0</td>\n",
              "      <td>44.0</td>\n",
              "      <td>73.0</td>\n",
              "      <td>26.0</td>\n",
              "      <td>3.0</td>\n",
              "      <td>34.0</td>\n",
              "      <td>61.0</td>\n",
              "      <td>105.0</td>\n",
              "      <td>2.692308</td>\n",
              "      <td>2.147059</td>\n",
              "    </tr>\n",
              "    <tr>\n",
              "      <th>21783</th>\n",
              "      <td>21783</td>\n",
              "      <td>2013.0</td>\n",
              "      <td>Mike Conley</td>\n",
              "      <td>PG</td>\n",
              "      <td>25.0</td>\n",
              "      <td>MEM</td>\n",
              "      <td>80.0</td>\n",
              "      <td>2757.0</td>\n",
              "      <td>18.3</td>\n",
              "      <td>0.549</td>\n",
              "      <td>0.312</td>\n",
              "      <td>0.30</td>\n",
              "      <td>1.8</td>\n",
              "      <td>7.9</td>\n",
              "      <td>4.8</td>\n",
              "      <td>29.5</td>\n",
              "      <td>3.4</td>\n",
              "      <td>0.7</td>\n",
              "      <td>15.1</td>\n",
              "      <td>21.0</td>\n",
              "      <td>5.1</td>\n",
              "      <td>4.7</td>\n",
              "      <td>9.9</td>\n",
              "      <td>0.172</td>\n",
              "      <td>3.1</td>\n",
              "      <td>1.1</td>\n",
              "      <td>4.1</td>\n",
              "      <td>4.3</td>\n",
              "      <td>414.0</td>\n",
              "      <td>940.0</td>\n",
              "      <td>0.440</td>\n",
              "      <td>106.0</td>\n",
              "      <td>293.0</td>\n",
              "      <td>0.362</td>\n",
              "      <td>308.0</td>\n",
              "      <td>647.0</td>\n",
              "      <td>0.476</td>\n",
              "      <td>0.497</td>\n",
              "      <td>234.0</td>\n",
              "      <td>282.0</td>\n",
              "      <td>0.830</td>\n",
              "      <td>43.0</td>\n",
              "      <td>182.0</td>\n",
              "      <td>225.0</td>\n",
              "      <td>487.0</td>\n",
              "      <td>174.0</td>\n",
              "      <td>24.0</td>\n",
              "      <td>189.0</td>\n",
              "      <td>171.0</td>\n",
              "      <td>1168.0</td>\n",
              "      <td>14.600000</td>\n",
              "      <td>2.576720</td>\n",
              "    </tr>\n",
              "  </tbody>\n",
              "</table>\n",
              "</div>"
            ],
            "text/plain": [
              "       Unnamed: 0    Year        Player Pos  ...     PF     PTS        PPG    AST/TO\n",
              "22227       22227  2013.0  Maalik Wayns  PG  ...    8.0    20.0   3.333333  3.500000\n",
              "22101       22101  2013.0  Ronnie Price  PG  ...   61.0   105.0   2.692308  2.147059\n",
              "21783       21783  2013.0   Mike Conley  PG  ...  171.0  1168.0  14.600000  2.576720\n",
              "\n",
              "[3 rows x 52 columns]"
            ]
          },
          "metadata": {
            "tags": []
          },
          "execution_count": 336
        }
      ]
    },
    {
      "cell_type": "code",
      "metadata": {
        "colab": {
          "base_uri": "https://localhost:8080/",
          "height": 409
        },
        "id": "WIf84Q1a6o6G",
        "outputId": "2aa601ac-813c-4229-d262-b54015829ef4"
      },
      "source": [
        "#visualize the initial centroids (chosen randomly)\r\n",
        "\r\n",
        "plt.scatter(point_guards['PPG'], point_guards['AST/TO'], c='magenta')\r\n",
        "plt.scatter(centroids['PPG'], centroids['AST/TO'], c='black')\r\n",
        "plt.title('~ Initial Centroids ~', fontsize= 15)\r\n",
        "plt.xlabel('Points per match', fontsize= 13)\r\n",
        "plt.ylabel('Assist To Turnover Ratio', fontsize =13)\r\n",
        "plt.gcf().set_size_inches(10,6)\r\n",
        "plt.show()\r\n"
      ],
      "execution_count": 338,
      "outputs": [
        {
          "output_type": "display_data",
          "data": {
            "image/png": "[encoded data removed]",
            "text/plain": [
              "<Figure size 720x432 with 1 Axes>"
            ]
          },
          "metadata": {
            "tags": [],
            "needs_background": "light"
          }
        }
      ]
    },
    {
      "cell_type": "code",
      "metadata": {
        "colab": {
          "base_uri": "https://localhost:8080/"
        },
        "id": "7ha8zzuO_v_f",
        "outputId": "6825068f-f80f-4c94-df55-45e019bfc029"
      },
      "source": [
        "#Create a dictionary of  Intial clusters coordinates\r\n",
        "\r\n",
        "def clusters_dict(df_centroids):\r\n",
        "  dict_centroids= dict()\r\n",
        "  i= 0\r\n",
        "  for j, row in df_centroids.iterrows():\r\n",
        "    dict_centroids[i]= [row['PPG'], row['AST/TO']]\r\n",
        "    i+=1\r\n",
        "  return dict_centroids\r\n",
        "\r\n",
        "dict_coordinates= clusters_dict(centroids)\r\n",
        "dict_coordinates"
      ],
      "execution_count": 339,
      "outputs": [
        {
          "output_type": "execute_result",
          "data": {
            "text/plain": [
              "{0: [3.3333333333333335, 3.5],\n",
              " 1: [2.6923076923076925, 2.1470588235294117],\n",
              " 2: [14.6, 2.5767195767195767],\n",
              " 3: [7.65, 3.1717171717171717],\n",
              " 4: [2.75, 1.206896551724138]}"
            ]
          },
          "metadata": {
            "tags": []
          },
          "execution_count": 339
        }
      ]
    },
    {
      "cell_type": "markdown",
      "metadata": {
        "id": "yvgi5nr_Dy4R"
      },
      "source": [
        "**Step 2: Assign each data point to the nearest centroid**\r\n"
      ]
    },
    {
      "cell_type": "code",
      "metadata": {
        "id": "0hHo5c7NE8kO",
        "colab": {
          "base_uri": "https://localhost:8080/"
        },
        "outputId": "0aaebd58-3de2-4e16-be12-2cec158ab524"
      },
      "source": [
        "# Create a function that computes the distance between one centroid and the players values (here 2D dimensions)\r\n",
        "# The points have only 2D coordinates 'PPG' & 'AST/TO', but I will build a genaral function (even for more 2D)\r\n",
        "import math \r\n",
        "\r\n",
        "def compute_distance(cluster_coor, data_point_coordinates):\r\n",
        "  distance_2 = 0\r\n",
        "\r\n",
        "  for i in range(0,len(cluster_coor)):\r\n",
        "    difference= cluster_coor[i]-data_point_coordinates[i]\r\n",
        "    squared_difference = difference ** 2\r\n",
        "    distance_2 += squared_difference\r\n",
        "    euclid_distance= math.sqrt(distance_2)\r\n",
        "\r\n",
        "  return euclid_distance\r\n",
        "#just for checking the function\r\n",
        "q=[5,2]\r\n",
        "p=[3,1]\r\n",
        "compute_distance(q,p)"
      ],
      "execution_count": 340,
      "outputs": [
        {
          "output_type": "execute_result",
          "data": {
            "text/plain": [
              "2.23606797749979"
            ]
          },
          "metadata": {
            "tags": []
          },
          "execution_count": 340
        }
      ]
    },
    {
      "cell_type": "code",
      "metadata": {
        "id": "ITda-9DtXKO2"
      },
      "source": [
        "#The idea is that for each instance(data point), we iterate, over the intitial clusters, and we compute\r\n",
        "#the distance between each dat point and each centroid (here 5 centroids), we retain the closest centroid\r\n",
        "#to each data point\r\n",
        "def assign_to_cluster(dict_coor):\r\n",
        "\r\n",
        "  liste=[]\r\n",
        "  for i in list(point_guards.index): \r\n",
        "    lowest_distance = -1\r\n",
        "    closest_cluster = -1\r\n",
        "    for id, centroid in dict_coor.items():\r\n",
        "      df_row = [point_guards['PPG'].loc[i], point_guards['AST/TO'].loc[i]]\r\n",
        "      distance = compute_distance(centroid, df_row)\r\n",
        "      if (lowest_distance == -1) or (distance < lowest_distance) :\r\n",
        "        lowest_distance= distance\r\n",
        "        closest_cluster = id\r\n",
        "      else:\r\n",
        "        continue\r\n",
        "    liste.append(closest_cluster)\r\n",
        "  return liste\r\n",
        "point_guards['cluster']= assign_to_cluster(dict_coordinates)\r\n"
      ],
      "execution_count": 341,
      "outputs": []
    },
    {
      "cell_type": "code",
      "metadata": {
        "colab": {
          "base_uri": "https://localhost:8080/",
          "height": 206
        },
        "id": "9wUX1k-dhlAI",
        "outputId": "7a518abd-8d01-4139-8000-2205861606c7"
      },
      "source": [
        "point_guards.iloc[0:5][['Player','PPG','AST/TO','cluster']]"
      ],
      "execution_count": 342,
      "outputs": [
        {
          "output_type": "execute_result",
          "data": {
            "text/html": [
              "<div>\n",
              "<style scoped>\n",
              "    .dataframe tbody tr th:only-of-type {\n",
              "        vertical-align: middle;\n",
              "    }\n",
              "\n",
              "    .dataframe tbody tr th {\n",
              "        vertical-align: top;\n",
              "    }\n",
              "\n",
              "    .dataframe thead th {\n",
              "        text-align: right;\n",
              "    }\n",
              "</style>\n",
              "<table border=\"1\" class=\"dataframe\">\n",
              "  <thead>\n",
              "    <tr style=\"text-align: right;\">\n",
              "      <th></th>\n",
              "      <th>Player</th>\n",
              "      <th>PPG</th>\n",
              "      <th>AST/TO</th>\n",
              "      <th>cluster</th>\n",
              "    </tr>\n",
              "  </thead>\n",
              "  <tbody>\n",
              "    <tr>\n",
              "      <th>21706</th>\n",
              "      <td>D.J. Augustin</td>\n",
              "      <td>4.684211</td>\n",
              "      <td>2.500000</td>\n",
              "      <td>0</td>\n",
              "    </tr>\n",
              "    <tr>\n",
              "      <th>21712</th>\n",
              "      <td>Leandro Barbosa</td>\n",
              "      <td>5.243902</td>\n",
              "      <td>2.761905</td>\n",
              "      <td>0</td>\n",
              "    </tr>\n",
              "    <tr>\n",
              "      <th>21713</th>\n",
              "      <td>J.J. Barea</td>\n",
              "      <td>11.270270</td>\n",
              "      <td>2.027586</td>\n",
              "      <td>2</td>\n",
              "    </tr>\n",
              "    <tr>\n",
              "      <th>21724</th>\n",
              "      <td>Jerryd Bayless</td>\n",
              "      <td>8.662500</td>\n",
              "      <td>2.200000</td>\n",
              "      <td>3</td>\n",
              "    </tr>\n",
              "    <tr>\n",
              "      <th>21729</th>\n",
              "      <td>Rodrigue Beaubois</td>\n",
              "      <td>4.022222</td>\n",
              "      <td>2.545455</td>\n",
              "      <td>0</td>\n",
              "    </tr>\n",
              "  </tbody>\n",
              "</table>\n",
              "</div>"
            ],
            "text/plain": [
              "                  Player        PPG    AST/TO  cluster\n",
              "21706      D.J. Augustin   4.684211  2.500000        0\n",
              "21712    Leandro Barbosa   5.243902  2.761905        0\n",
              "21713         J.J. Barea  11.270270  2.027586        2\n",
              "21724     Jerryd Bayless   8.662500  2.200000        3\n",
              "21729  Rodrigue Beaubois   4.022222  2.545455        0"
            ]
          },
          "metadata": {
            "tags": []
          },
          "execution_count": 342
        }
      ]
    },
    {
      "cell_type": "code",
      "metadata": {
        "colab": {
          "base_uri": "https://localhost:8080/",
          "height": 409
        },
        "id": "4CSnqKZ5ltEX",
        "outputId": "d925bd66-a96b-423d-b0c4-707426a173de"
      },
      "source": [
        "#We can visualize the clusters of the first iteration :\r\n",
        "import matplotlib.pyplot as plt\r\n",
        "def visualize_clusters(df, num_clusters):\r\n",
        "  colors= ['b','g','r','c','m']\r\n",
        "  for i in range(num_clusters):\r\n",
        "    cluster_df= df[df['cluster']== i]\r\n",
        "    plt.scatter (cluster_df['PPG'], cluster_df['AST/TO'], c= colors[i], label='cluster{}'.format(i) )\r\n",
        "    plt.xlabel('Points per match', fontsize= 13)\r\n",
        "    plt.ylabel('Assist To Turover Ratio', fontsize= 13)\r\n",
        "    plt.title('Visualizing Clusters of PG players', fontsize= 15)\r\n",
        "    plt.legend(loc='best')\r\n",
        "  plt.gcf().set_size_inches(10,6)\r\n",
        "  plt.show()\r\n",
        "visualize_clusters(point_guards, num_clusters)"
      ],
      "execution_count": 277,
      "outputs": [
        {
          "output_type": "display_data",
          "data": {
            "image/png": "[encoded data removed]",
            "text/plain": [
              "<Figure size 720x432 with 1 Axes>"
            ]
          },
          "metadata": {
            "tags": [],
            "needs_background": "light"
          }
        }
      ]
    },
    {
      "cell_type": "markdown",
      "metadata": {
        "id": "eoe7ORwGrGMw"
      },
      "source": [
        "**Step 3: Update each cluster center**\r\n",
        "\r\n",
        "Replacing it with the mean of all points assigned to that cluster (in Step 2)"
      ]
    },
    {
      "cell_type": "code",
      "metadata": {
        "colab": {
          "base_uri": "https://localhost:8080/"
        },
        "id": "o5RlJIcerx5I",
        "outputId": "45392bc4-6c4f-4f8c-b966-73301e7c2256"
      },
      "source": [
        "def update_clusters(df):\r\n",
        "  new_dict_clusters= dict()\r\n",
        "  for i in range(0, num_clusters):\r\n",
        "    cluster_df= df[df['cluster']== i]\r\n",
        "    new_cluster_coor = [cluster_df['PPG'].mean(), cluster_df['AST/TO'].mean()]\r\n",
        "    new_dict_clusters[i]= new_cluster_coor\r\n",
        "  return new_dict_clusters\r\n",
        "dict_update_clusters= update_clusters(point_guards)\r\n",
        "dict_update_clusters"
      ],
      "execution_count": 343,
      "outputs": [
        {
          "output_type": "execute_result",
          "data": {
            "text/plain": [
              "{0: [4.504621655920842, 2.8737061814164684],\n",
              " 1: [2.8489388891241485, 2.20955426841875],\n",
              " 2: [15.591178559968169, 2.594887999143585],\n",
              " 3: [7.745233353102496, 2.2990702557613694],\n",
              " 4: [2.478360952669029, 1.2043404839094494]}"
            ]
          },
          "metadata": {
            "tags": []
          },
          "execution_count": 343
        }
      ]
    },
    {
      "cell_type": "code",
      "metadata": {
        "colab": {
          "base_uri": "https://localhost:8080/",
          "height": 409
        },
        "id": "A1cS7D42u4Zw",
        "outputId": "0eb09429-8f0c-43e8-ae44-0a57b9c53e6d"
      },
      "source": [
        "#Repeat Step2\r\n",
        "point_guards['cluster'] = assign_to_cluster(dict_update_clusters)\r\n",
        "visualize_clusters(point_guards, num_clusters)"
      ],
      "execution_count": 279,
      "outputs": [
        {
          "output_type": "display_data",
          "data": {
            "image/png": "[encoded data removed]",
            "text/plain": [
              "<Figure size 720x432 with 1 Axes>"
            ]
          },
          "metadata": {
            "tags": [],
            "needs_background": "light"
          }
        }
      ]
    },
    {
      "cell_type": "markdown",
      "metadata": {
        "id": "6TANWF7WyvKn"
      },
      "source": [
        "**Step 4: Repeat Step 2 & Step 3 (Until convergence):**\r\n"
      ]
    },
    {
      "cell_type": "code",
      "metadata": {
        "colab": {
          "base_uri": "https://localhost:8080/"
        },
        "id": "yRWN3cAk2i6F",
        "outputId": "2a284b69-ad02-4967-ada7-26a45fd44e78"
      },
      "source": [
        "for i in range(15):\r\n",
        "\r\n",
        "  dict_update_clusters= update_clusters(point_guards)\r\n",
        "  point_guards['cluster'] = assign_to_cluster(dict_update_clusters)\r\n",
        "  print(dict_update_clusters)\r\n",
        " \r\n"
      ],
      "execution_count": 345,
      "outputs": [
        {
          "output_type": "stream",
          "text": [
            "{0: [6.892570640842069, 2.2879037942733653], 1: [3.7033238923451925, 2.4666830053550663], 2: [19.323314857992315, 2.5539555492394737], 3: [12.61582088601426, 2.679502733787803], 4: [1.9023078529657478, 1.3981298175229095]}\n",
            "{0: [7.2972303578255735, 2.2122058423806714], 1: [4.040463244167718, 2.5636422962205914], 2: [19.323314857992315, 2.5539555492394737], 3: [12.882260001184921, 2.7111869146606895], 4: [1.9940134345836102, 1.4884692652766118]}\n",
            "{0: [7.656225035277315, 2.19169952810523], 1: [4.524797978996492, 2.5543402669652835], 2: [19.323314857992315, 2.5539555492394737], 3: [12.882260001184921, 2.7111869146606895], 4: [2.1467536853617184, 1.6620492901240005]}\n",
            "{0: [7.897745147120258, 2.2123370942062417], 1: [4.692981789758297, 2.5400848568434053], 2: [19.323314857992315, 2.5539555492394737], 3: [13.010692135280149, 2.6982997114627136], 4: [2.188374334426966, 1.7043854221090284]}\n",
            "{0: [8.049606276197308, 2.1794155860240334], 1: [4.866919622506907, 2.514508517971179], 2: [19.323314857992315, 2.5539555492394737], 3: [13.010692135280149, 2.6982997114627136], 4: [2.2218471922078766, 1.7815575448657412]}\n",
            "{0: [8.049606276197308, 2.1794155860240334], 1: [4.866919622506907, 2.514508517971179], 2: [19.323314857992315, 2.5539555492394737], 3: [13.010692135280149, 2.6982997114627136], 4: [2.2218471922078766, 1.7815575448657412]}\n",
            "{0: [8.049606276197308, 2.1794155860240334], 1: [4.866919622506907, 2.514508517971179], 2: [19.323314857992315, 2.5539555492394737], 3: [13.010692135280149, 2.6982997114627136], 4: [2.2218471922078766, 1.7815575448657412]}\n",
            "{0: [8.049606276197308, 2.1794155860240334], 1: [4.866919622506907, 2.514508517971179], 2: [19.323314857992315, 2.5539555492394737], 3: [13.010692135280149, 2.6982997114627136], 4: [2.2218471922078766, 1.7815575448657412]}\n",
            "{0: [8.049606276197308, 2.1794155860240334], 1: [4.866919622506907, 2.514508517971179], 2: [19.323314857992315, 2.5539555492394737], 3: [13.010692135280149, 2.6982997114627136], 4: [2.2218471922078766, 1.7815575448657412]}\n",
            "{0: [8.049606276197308, 2.1794155860240334], 1: [4.866919622506907, 2.514508517971179], 2: [19.323314857992315, 2.5539555492394737], 3: [13.010692135280149, 2.6982997114627136], 4: [2.2218471922078766, 1.7815575448657412]}\n",
            "{0: [8.049606276197308, 2.1794155860240334], 1: [4.866919622506907, 2.514508517971179], 2: [19.323314857992315, 2.5539555492394737], 3: [13.010692135280149, 2.6982997114627136], 4: [2.2218471922078766, 1.7815575448657412]}\n",
            "{0: [8.049606276197308, 2.1794155860240334], 1: [4.866919622506907, 2.514508517971179], 2: [19.323314857992315, 2.5539555492394737], 3: [13.010692135280149, 2.6982997114627136], 4: [2.2218471922078766, 1.7815575448657412]}\n",
            "{0: [8.049606276197308, 2.1794155860240334], 1: [4.866919622506907, 2.514508517971179], 2: [19.323314857992315, 2.5539555492394737], 3: [13.010692135280149, 2.6982997114627136], 4: [2.2218471922078766, 1.7815575448657412]}\n",
            "{0: [8.049606276197308, 2.1794155860240334], 1: [4.866919622506907, 2.514508517971179], 2: [19.323314857992315, 2.5539555492394737], 3: [13.010692135280149, 2.6982997114627136], 4: [2.2218471922078766, 1.7815575448657412]}\n",
            "{0: [8.049606276197308, 2.1794155860240334], 1: [4.866919622506907, 2.514508517971179], 2: [19.323314857992315, 2.5539555492394737], 3: [13.010692135280149, 2.6982997114627136], 4: [2.2218471922078766, 1.7815575448657412]}\n"
          ],
          "name": "stdout"
        }
      ]
    },
    {
      "cell_type": "code",
      "metadata": {
        "colab": {
          "base_uri": "https://localhost:8080/",
          "height": 409
        },
        "id": "v5hJp0zq4C31",
        "outputId": "1bb99132-7052-4540-e510-ad100ccf4907"
      },
      "source": [
        "#Visualize the clusters of the last iteration (after convegence)\r\n",
        "visualize_clusters(point_guards, num_clusters)"
      ],
      "execution_count": 346,
      "outputs": [
        {
          "output_type": "display_data",
          "data": {
            "image/png": "[encoded data removed]",
            "text/plain": [
              "<Figure size 720x432 with 1 Axes>"
            ]
          },
          "metadata": {
            "tags": [],
            "needs_background": "light"
          }
        }
      ]
    },
    {
      "cell_type": "markdown",
      "metadata": {
        "id": "zoa9U3IH68I7"
      },
      "source": [
        "## **III: Using the Class KMeans & Checking of our built algorithm :**\r\n",
        "To check The Algorithm that we built !\r\n",
        "\r\n"
      ]
    },
    {
      "cell_type": "code",
      "metadata": {
        "id": "42Kz9dhy7PXm"
      },
      "source": [
        "#we create a new dataframe without the column cluster \r\n",
        "features= list(point_guards.columns)[0:-1]\r\n",
        "point_guards_original= point_guards[features]\r\n"
      ],
      "execution_count": 350,
      "outputs": []
    },
    {
      "cell_type": "code",
      "metadata": {
        "id": "WrANuD0Q9rUc"
      },
      "source": [
        "#we use the KMeans Class of Sklearn\r\n",
        "from sklearn.cluster import KMeans\r\n",
        "kmeans= KMeans(n_clusters= num_clusters)\r\n",
        "kmeans.fit(point_guards_original[['PPG', 'AST/TO']])\r\n",
        "point_guards_original['cluster']= kmeans.labels_"
      ],
      "execution_count": 351,
      "outputs": []
    },
    {
      "cell_type": "code",
      "metadata": {
        "colab": {
          "base_uri": "https://localhost:8080/",
          "height": 409
        },
        "id": "00hlpFqfBiG6",
        "outputId": "671e7145-fa72-4d86-aec7-135c707bff47"
      },
      "source": [
        "visualize_clusters(point_guards_original, num_clusters)"
      ],
      "execution_count": 352,
      "outputs": [
        {
          "output_type": "display_data",
          "data": {
            "image/png": "[encoded data removed]",
            "text/plain": [
              "<Figure size 720x432 with 1 Axes>"
            ]
          },
          "metadata": {
            "tags": [],
            "needs_background": "light"
          }
        }
      ]
    },
    {
      "cell_type": "markdown",
      "metadata": {
        "id": "5XflOGVuEq_h"
      },
      "source": [
        " **Note:** \r\n",
        "\r\n",
        "Below , we see The figure with the Algorithm of Kmeans that I have built step by step(the last figure in part II, above): the two figures are very similar: only the color of clusters is different(because it is chosen randomly) but it is the same clasification: the red cluster in my algorithm becomes green (in the KMeans class, the figure above), the purple cluster in my algorithm becomes red, and the green cluster becomes red. "
      ]
    },
    {
      "cell_type": "markdown",
      "metadata": {
        "id": "OSA3g18FErc_"
      },
      "source": [
        "![index1.png](data:image/png;base64,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)"
      ]
    },
    {
      "cell_type": "code",
      "metadata": {
        "id": "1q3kwVrl-w2l"
      },
      "source": [
        "#we can choose the same colors in order to evaluate our Algorithm\r\n",
        "point_guards['cluster_adjust']= point_guards['cluster'].map({4:2,1:4,0:0,3:3,2:1})"
      ],
      "execution_count": 353,
      "outputs": []
    },
    {
      "cell_type": "code",
      "metadata": {
        "id": "4y5UGGzNCxxh"
      },
      "source": [
        "df= pd.concat([point_guards['cluster_adjust'], point_guards_original['cluster']], axis=1)"
      ],
      "execution_count": 355,
      "outputs": []
    },
    {
      "cell_type": "code",
      "metadata": {
        "colab": {
          "base_uri": "https://localhost:8080/",
          "height": 424
        },
        "id": "O3GpnNJz8V_3",
        "outputId": "5a9da4ae-bcde-44a8-94b6-55b725a69f2d"
      },
      "source": [
        "df['diff']= df['cluster_adjust']-df['cluster']\r\n",
        "df"
      ],
      "execution_count": 358,
      "outputs": [
        {
          "output_type": "execute_result",
          "data": {
            "text/html": [
              "<div>\n",
              "<style scoped>\n",
              "    .dataframe tbody tr th:only-of-type {\n",
              "        vertical-align: middle;\n",
              "    }\n",
              "\n",
              "    .dataframe tbody tr th {\n",
              "        vertical-align: top;\n",
              "    }\n",
              "\n",
              "    .dataframe thead th {\n",
              "        text-align: right;\n",
              "    }\n",
              "</style>\n",
              "<table border=\"1\" class=\"dataframe\">\n",
              "  <thead>\n",
              "    <tr style=\"text-align: right;\">\n",
              "      <th></th>\n",
              "      <th>cluster_adjust</th>\n",
              "      <th>cluster</th>\n",
              "      <th>diff</th>\n",
              "    </tr>\n",
              "  </thead>\n",
              "  <tbody>\n",
              "    <tr>\n",
              "      <th>21706</th>\n",
              "      <td>4</td>\n",
              "      <td>4</td>\n",
              "      <td>0</td>\n",
              "    </tr>\n",
              "    <tr>\n",
              "      <th>21712</th>\n",
              "      <td>4</td>\n",
              "      <td>4</td>\n",
              "      <td>0</td>\n",
              "    </tr>\n",
              "    <tr>\n",
              "      <th>21713</th>\n",
              "      <td>3</td>\n",
              "      <td>3</td>\n",
              "      <td>0</td>\n",
              "    </tr>\n",
              "    <tr>\n",
              "      <th>21724</th>\n",
              "      <td>0</td>\n",
              "      <td>0</td>\n",
              "      <td>0</td>\n",
              "    </tr>\n",
              "    <tr>\n",
              "      <th>21729</th>\n",
              "      <td>4</td>\n",
              "      <td>4</td>\n",
              "      <td>0</td>\n",
              "    </tr>\n",
              "    <tr>\n",
              "      <th>...</th>\n",
              "      <td>...</td>\n",
              "      <td>...</td>\n",
              "      <td>...</td>\n",
              "    </tr>\n",
              "    <tr>\n",
              "      <th>22226</th>\n",
              "      <td>2</td>\n",
              "      <td>2</td>\n",
              "      <td>0</td>\n",
              "    </tr>\n",
              "    <tr>\n",
              "      <th>22227</th>\n",
              "      <td>4</td>\n",
              "      <td>2</td>\n",
              "      <td>2</td>\n",
              "    </tr>\n",
              "    <tr>\n",
              "      <th>22230</th>\n",
              "      <td>1</td>\n",
              "      <td>1</td>\n",
              "      <td>0</td>\n",
              "    </tr>\n",
              "    <tr>\n",
              "      <th>22235</th>\n",
              "      <td>1</td>\n",
              "      <td>1</td>\n",
              "      <td>0</td>\n",
              "    </tr>\n",
              "    <tr>\n",
              "      <th>22239</th>\n",
              "      <td>3</td>\n",
              "      <td>3</td>\n",
              "      <td>0</td>\n",
              "    </tr>\n",
              "  </tbody>\n",
              "</table>\n",
              "<p>104 rows × 3 columns</p>\n",
              "</div>"
            ],
            "text/plain": [
              "       cluster_adjust  cluster  diff\n",
              "21706               4        4     0\n",
              "21712               4        4     0\n",
              "21713               3        3     0\n",
              "21724               0        0     0\n",
              "21729               4        4     0\n",
              "...               ...      ...   ...\n",
              "22226               2        2     0\n",
              "22227               4        2     2\n",
              "22230               1        1     0\n",
              "22235               1        1     0\n",
              "22239               3        3     0\n",
              "\n",
              "[104 rows x 3 columns]"
            ]
          },
          "metadata": {
            "tags": []
          },
          "execution_count": 358
        }
      ]
    },
    {
      "cell_type": "code",
      "metadata": {
        "colab": {
          "base_uri": "https://localhost:8080/",
          "height": 238
        },
        "id": "rJpB_4-7DkjQ",
        "outputId": "f1243981-b3b5-47c6-df96-f450561965d6"
      },
      "source": [
        "different_classification = df[df['diff']!=0]\r\n",
        "different_classification"
      ],
      "execution_count": 363,
      "outputs": [
        {
          "output_type": "execute_result",
          "data": {
            "text/html": [
              "<div>\n",
              "<style scoped>\n",
              "    .dataframe tbody tr th:only-of-type {\n",
              "        vertical-align: middle;\n",
              "    }\n",
              "\n",
              "    .dataframe tbody tr th {\n",
              "        vertical-align: top;\n",
              "    }\n",
              "\n",
              "    .dataframe thead th {\n",
              "        text-align: right;\n",
              "    }\n",
              "</style>\n",
              "<table border=\"1\" class=\"dataframe\">\n",
              "  <thead>\n",
              "    <tr style=\"text-align: right;\">\n",
              "      <th></th>\n",
              "      <th>cluster_adjust</th>\n",
              "      <th>cluster</th>\n",
              "      <th>diff</th>\n",
              "    </tr>\n",
              "  </thead>\n",
              "  <tbody>\n",
              "    <tr>\n",
              "      <th>21998</th>\n",
              "      <td>4</td>\n",
              "      <td>2</td>\n",
              "      <td>2</td>\n",
              "    </tr>\n",
              "    <tr>\n",
              "      <th>22076</th>\n",
              "      <td>0</td>\n",
              "      <td>4</td>\n",
              "      <td>-4</td>\n",
              "    </tr>\n",
              "    <tr>\n",
              "      <th>22102</th>\n",
              "      <td>4</td>\n",
              "      <td>2</td>\n",
              "      <td>2</td>\n",
              "    </tr>\n",
              "    <tr>\n",
              "      <th>22127</th>\n",
              "      <td>3</td>\n",
              "      <td>0</td>\n",
              "      <td>3</td>\n",
              "    </tr>\n",
              "    <tr>\n",
              "      <th>22191</th>\n",
              "      <td>4</td>\n",
              "      <td>2</td>\n",
              "      <td>2</td>\n",
              "    </tr>\n",
              "    <tr>\n",
              "      <th>22227</th>\n",
              "      <td>4</td>\n",
              "      <td>2</td>\n",
              "      <td>2</td>\n",
              "    </tr>\n",
              "  </tbody>\n",
              "</table>\n",
              "</div>"
            ],
            "text/plain": [
              "       cluster_adjust  cluster  diff\n",
              "21998               4        2     2\n",
              "22076               0        4    -4\n",
              "22102               4        2     2\n",
              "22127               3        0     3\n",
              "22191               4        2     2\n",
              "22227               4        2     2"
            ]
          },
          "metadata": {
            "tags": []
          },
          "execution_count": 363
        }
      ]
    },
    {
      "cell_type": "code",
      "metadata": {
        "colab": {
          "base_uri": "https://localhost:8080/"
        },
        "id": "Gg2yQ3xLDrj4",
        "outputId": "87b5dc29-d017-4e2d-cb02-99dd7ca94386"
      },
      "source": [
        "accuracy= len(different_classification)/len(df)\r\n",
        "accuracy"
      ],
      "execution_count": 364,
      "outputs": [
        {
          "output_type": "execute_result",
          "data": {
            "text/plain": [
              "0.057692307692307696"
            ]
          },
          "metadata": {
            "tags": []
          },
          "execution_count": 364
        }
      ]
    },
    {
      "cell_type": "code",
      "metadata": {
        "id": "l58rBsnYDImR"
      },
      "source": [
        ""
      ],
      "execution_count": null,
      "outputs": []
    }
  ]
}